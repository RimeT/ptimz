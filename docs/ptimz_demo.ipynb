{
 "cells": [
  {
   "cell_type": "markdown",
   "id": "b48ae0b7-0866-49dd-a5ac-e393f363d779",
   "metadata": {},
   "source": [
    "# How to use"
   ]
  },
  {
   "cell_type": "code",
   "execution_count": 1,
   "id": "4b1ab54f-9fed-48a7-b1d0-38d817e16504",
   "metadata": {},
   "outputs": [],
   "source": [
    "import torch\n",
    "import numpy as np\n",
    "import SimpleITK as sitk\n",
    "from matplotlib import pyplot as plt\n",
    "from ptimz.utils.viz import plot_semseg"
   ]
  },
  {
   "cell_type": "markdown",
   "id": "5ec870df-73a8-4fa7-9929-11742c07ee17",
   "metadata": {},
   "source": [
    "## Load a fetal brain T2-weighted image\n",
    "Please download [Image](https://github.com/RimeT/ptimz/releases/download/v0.0.1-np/sub-001_rec-mial_T2w.nii.gz) to your local path.  \n",
    "[Ground Truth](https://github.com/RimeT/ptimz/releases/download/v0.0.1-np/wm_sub-001_rec-mial_dseg.nii.gz)"
   ]
  },
  {
   "cell_type": "code",
   "execution_count": 2,
   "id": "ec44b5b8-2861-43f1-a1ef-dd1d8e960761",
   "metadata": {
    "tags": []
   },
   "outputs": [
    {
     "name": "stdout",
     "output_type": "stream",
     "text": [
      "ITK Image Size (256, 256, 256)\n",
      "Spacing (0.5468999743461609, 0.5468999743461609, 0.5468999743461609)\n"
     ]
    }
   ],
   "source": [
    "# replace image_path with your own path \n",
    "image_path = 'sub-001_rec-mial_T2w.nii.gz'\n",
    "imageitk = sitk.ReadImage(image_path)\n",
    "origin_size = imageitk.GetSize()\n",
    "print(\"ITK Image Size\", origin_size)\n",
    "print(\"Spacing\", imageitk.GetSpacing())"
   ]
  },
  {
   "cell_type": "markdown",
   "id": "e0adf69c-898d-46e2-b2f6-e501477fc81f",
   "metadata": {},
   "source": [
    "## Convert image to numpy array"
   ]
  },
  {
   "cell_type": "code",
   "execution_count": 3,
   "id": "981469bd-76b2-4db0-b898-58eb7f9258b3",
   "metadata": {},
   "outputs": [
    {
     "name": "stdout",
     "output_type": "stream",
     "text": [
      "image with axis (1, 256, 256, 256)\n"
     ]
    }
   ],
   "source": [
    "image = sitk.GetArrayFromImage(imageitk)\n",
    "# add channel axis\n",
    "image = np.expand_dims(image, axis=0)\n",
    "print('image with axis', image.shape)"
   ]
  },
  {
   "cell_type": "markdown",
   "id": "a9744c88-d5f9-466e-853e-0fb734655efe",
   "metadata": {},
   "source": [
    "## Use monai package to do data transformation"
   ]
  },
  {
   "cell_type": "code",
   "execution_count": 4,
   "id": "e9f500db-25cd-4a6e-8ffa-1c713105537c",
   "metadata": {},
   "outputs": [
    {
     "name": "stdout",
     "output_type": "stream",
     "text": [
      "shape (1, 224, 224, 224) new intensity (0.0, 1.0)\n"
     ]
    }
   ],
   "source": [
    "from monai import transforms as mnf\n",
    "fn = mnf.Compose([\n",
    "    # resize image to 224x224x224\n",
    "    mnf.Resize((224, 224, 224)),\n",
    "    # rescale the intensity\n",
    "    mnf.ScaleIntensity()\n",
    "])\n",
    "\n",
    "image = fn(image)\n",
    "print(f\"shape {image.shape} new intensity ({np.min(image)}, {np.max(image)})\")"
   ]
  },
  {
   "cell_type": "markdown",
   "id": "def52027-e8d8-4c60-b268-6f5d3a036b16",
   "metadata": {},
   "source": [
    "## Use ptimz to load deep learning models"
   ]
  },
  {
   "cell_type": "code",
   "execution_count": 5,
   "id": "6c18fc73-31d7-405a-976f-cfbf568ce11c",
   "metadata": {},
   "outputs": [],
   "source": [
    "import ptimz"
   ]
  },
  {
   "cell_type": "markdown",
   "id": "e1172fb2-b19e-4408-8cc4-c1161dba9367",
   "metadata": {},
   "source": [
    "list all models"
   ]
  },
  {
   "cell_type": "code",
   "execution_count": 6,
   "id": "f31d505f-c85b-4284-ae77-af15bf95e46b",
   "metadata": {},
   "outputs": [
    {
     "name": "stdout",
     "output_type": "stream",
     "text": [
      "['litehrnet_cls2d', 'litehrnet_cls3d', 'litehrnet_seg2d', 'litehrnet_seg3d', 'resnet10_1d', 'resnet10_2d', 'resnet10_3d', 'resnet10d_1d', 'resnet10d_2d', 'resnet10d_3d', 'resnet18_1d', 'resnet18_2d', 'resnet18_3d', 'resnet18d_1d', 'resnet18d_2d', 'resnet18d_3d', 'resnet34_1d', 'resnet34_2d', 'resnet34_3d', 'resnet34d_1d', 'resnet34d_2d', 'resnet34d_3d', 'resnet50_1d', 'resnet50_2d', 'resnet50_3d', 'resnet50d_1d', 'resnet50d_2d', 'resnet50d_3d', 'resnet50unet_1d', 'resnet50unet_2d', 'resnet50unet_3d', 'resnet101_1d', 'resnet101_2d', 'resnet101_3d', 'resnet101d_1d', 'resnet101d_2d', 'resnet101d_3d', 'resnet152_1d', 'resnet152_2d', 'resnet152_3d', 'resnet152d_1d', 'resnet152d_2d', 'resnet152d_3d', 'resunet_3d']\n"
     ]
    }
   ],
   "source": [
    "print(ptimz.list_models())"
   ]
  },
  {
   "cell_type": "markdown",
   "id": "e461e53c-94a4-446b-8f27-901a73e16be7",
   "metadata": {},
   "source": [
    "Or find models with key words"
   ]
  },
  {
   "cell_type": "code",
   "execution_count": 7,
   "id": "fcdcd79f-1fe8-456f-8df2-87e6dd13eca5",
   "metadata": {},
   "outputs": [
    {
     "name": "stdout",
     "output_type": "stream",
     "text": [
      "['litehrnet_cls2d', 'litehrnet_cls3d', 'litehrnet_seg2d', 'litehrnet_seg3d']\n"
     ]
    }
   ],
   "source": [
    "print(ptimz.list_models(\"*hrnet*\"))"
   ]
  },
  {
   "cell_type": "markdown",
   "id": "2ee251fd",
   "metadata": {},
   "source": [
    "List all pretrained weights"
   ]
  },
  {
   "cell_type": "code",
   "execution_count": 8,
   "id": "4414f820",
   "metadata": {},
   "outputs": [
    {
     "name": "stdout",
     "output_type": "stream",
     "text": [
      "['ctliver|resunet_3d', 'fetal_whitematter|litehrnet_seg3d', 'multiplesclerosis|resnet50unet_2d']\n"
     ]
    }
   ],
   "source": [
    "print(ptimz.list_pretrained_names())"
   ]
  },
  {
   "cell_type": "markdown",
   "id": "f856e583-53ef-419c-a737-a8cfeaa8b69c",
   "metadata": {},
   "source": [
    "Find available pretrained weights by model name"
   ]
  },
  {
   "cell_type": "code",
   "execution_count": 9,
   "id": "3ed22c17-091d-448f-a5f5-852aed561f09",
   "metadata": {},
   "outputs": [
    {
     "name": "stdout",
     "output_type": "stream",
     "text": [
      "['fetal_whitematter']\n"
     ]
    }
   ],
   "source": [
    "print(ptimz.list_pretrained_names(\"litehrnet_seg3d\"))"
   ]
  },
  {
   "cell_type": "markdown",
   "id": "434ae053-8dac-4e09-97c2-7cd2647edd47",
   "metadata": {},
   "source": [
    "construct litehrnet_seg3d and load fetal_whitematter\n",
    "input channels is 1 and output classes is 2"
   ]
  },
  {
   "cell_type": "code",
   "execution_count": 10,
   "id": "3e0ecc0f-d171-4a51-a339-fdc99e96f603",
   "metadata": {},
   "outputs": [],
   "source": [
    "model = ptimz.create_model(\"litehrnet_seg3d\", pretrained=\"fetal_whitematter\", in_chans=1, num_classes=2)"
   ]
  },
  {
   "cell_type": "markdown",
   "id": "bdb43aaa",
   "metadata": {},
   "source": [
    "### Transfer learning based on pretrained weights\n",
    "\n",
    "Now we want to input T1w, T1post, T2w, T2FLAIR, segment 6 types of objects.  \n",
    "**4 channels input and 6 channels output**"
   ]
  },
  {
   "cell_type": "code",
   "execution_count": 11,
   "id": "36a68fbe",
   "metadata": {},
   "outputs": [
    {
     "name": "stdout",
     "output_type": "stream",
     "text": [
      "torch.Size([1, 6, 224, 224, 224])\n"
     ]
    }
   ],
   "source": [
    "my_input = torch.rand(size=(1, 4, 224, 224, 224))\n",
    "my_model = ptimz.create_model(\"litehrnet_seg3d\", pretrained=\"fetal_whitematter\", in_chans=4, num_classes=6)\n",
    "with torch.no_grad():\n",
    "    my_output =my_model(my_input)\n",
    "print(my_output.shape)"
   ]
  },
  {
   "cell_type": "markdown",
   "id": "ae1f7a4d",
   "metadata": {},
   "source": [
    "**Let's check if the weights have been transfered**"
   ]
  },
  {
   "cell_type": "code",
   "execution_count": 29,
   "id": "399ebf05",
   "metadata": {},
   "outputs": [
    {
     "name": "stdout",
     "output_type": "stream",
     "text": [
      "origin model mean weights tensor(-0.0001, device='cuda:0')\n",
      "origin model mean weights tensor(-0.0001)\n"
     ]
    }
   ],
   "source": [
    "# print(model.state_dict().keys())\n",
    "print(\"origin model mean weights\", torch.mean(model.state_dict()['stem.conv1.conv.weight']))\n",
    "print(\"origin model mean weights\", torch.mean(my_model.state_dict()['stem.conv1.conv.weight']))"
   ]
  },
  {
   "cell_type": "markdown",
   "id": "57ab3356-a676-41ae-8775-f8ae9ad351d8",
   "metadata": {},
   "source": [
    "input tensor should have a batch channel"
   ]
  },
  {
   "cell_type": "code",
   "execution_count": 13,
   "id": "082ba022-93fb-4364-b8e7-858d1373459d",
   "metadata": {},
   "outputs": [
    {
     "name": "stdout",
     "output_type": "stream",
     "text": [
      "input shape torch.Size([1, 1, 224, 224, 224])\n"
     ]
    }
   ],
   "source": [
    "input_tensor = torch.Tensor(image)\n",
    "input_tensor = input_tensor.unsqueeze(dim=0)\n",
    "print(f\"input shape {input_tensor.shape}\")"
   ]
  },
  {
   "cell_type": "markdown",
   "id": "163c64b8-905e-48a6-8b6a-d3bf923006e9",
   "metadata": {},
   "source": [
    "## Inference"
   ]
  },
  {
   "cell_type": "code",
   "execution_count": 14,
   "id": "98d56a73-0d8e-4467-98b4-58b1a649a3be",
   "metadata": {},
   "outputs": [
    {
     "name": "stdout",
     "output_type": "stream",
     "text": [
      "CPU inference time: 20.188251495361328  output shape torch.Size([1, 2, 224, 224, 224])\n"
     ]
    }
   ],
   "source": [
    "from time import time\n",
    "t1 = time()\n",
    "with torch.no_grad():\n",
    "    output = model(input_tensor)\n",
    "print(f\"CPU inference time: {time()-t1}  output shape {output.shape}\")"
   ]
  },
  {
   "cell_type": "markdown",
   "id": "8899a81a",
   "metadata": {},
   "source": [
    "GPU inference"
   ]
  },
  {
   "cell_type": "code",
   "execution_count": 15,
   "id": "cb20dada",
   "metadata": {},
   "outputs": [
    {
     "name": "stdout",
     "output_type": "stream",
     "text": [
      "GPU inference time: 1.9089529514312744  output shape torch.Size([1, 2, 224, 224, 224])\n"
     ]
    }
   ],
   "source": [
    "from time import time\n",
    "\n",
    "t1 = time()\n",
    "input_tensor = input_tensor.cuda()\n",
    "model = model.cuda()\n",
    "with torch.no_grad():\n",
    "    output = model(input_tensor)\n",
    "output = output.cpu()\n",
    "print(f\"GPU inference time: {time()-t1}  output shape {output.shape}\")"
   ]
  },
  {
   "cell_type": "markdown",
   "id": "1054b346-0860-454b-b5c9-3c7eaef99df0",
   "metadata": {},
   "source": [
    "## Plot"
   ]
  },
  {
   "cell_type": "code",
   "execution_count": 16,
   "id": "3dd59478-da4e-4959-9d71-bbb2f6397e9e",
   "metadata": {},
   "outputs": [
    {
     "name": "stdout",
     "output_type": "stream",
     "text": [
      "mask shape = (2, 224, 224, 224)\n",
      "display slice 112\n"
     ]
    },
    {
     "data": {
      "image/png": "[encoded data removed]",
      "text/plain": [
       "<Figure size 432x288 with 1 Axes>"
      ]
     },
     "metadata": {
      "needs_background": "light"
     },
     "output_type": "display_data"
    }
   ],
   "source": [
    "# remove batch axis\n",
    "output = output[0].numpy()\n",
    "\n",
    "print(f\"mask shape = {output.shape}\")\n",
    "plot_semseg(image[0], output, alpha=0.2)\n",
    "plt.show()"
   ]
  },
  {
   "cell_type": "markdown",
   "id": "c5e68184-6e94-4222-82b8-107b0eea7f06",
   "metadata": {},
   "source": [
    "# Resize the mask back"
   ]
  },
  {
   "cell_type": "code",
   "execution_count": 17,
   "id": "6181a7dc-d2f8-4e3a-93bb-3d9da411b64c",
   "metadata": {},
   "outputs": [
    {
     "name": "stdout",
     "output_type": "stream",
     "text": [
      "(256, 256, 256)\n"
     ]
    }
   ],
   "source": [
    "mask = np.argmax(output, axis=0)\n",
    "maskitk = sitk.GetImageFromArray(mask)\n",
    "\n",
    "from ptimz.data.transforms import itkimage_resize\n",
    "maskitk = itkimage_resize(maskitk, origin_size, sitk.sitkNearestNeighbor)\n",
    "print(maskitk.GetSize())"
   ]
  },
  {
   "cell_type": "markdown",
   "id": "47254912-2dbe-4a5c-9a91-2ac91482eca8",
   "metadata": {},
   "source": [
    "# Save mask into nifty nii"
   ]
  },
  {
   "cell_type": "code",
   "execution_count": 18,
   "id": "525f7b19-dfc3-4ebc-8db8-65795cd87297",
   "metadata": {},
   "outputs": [
    {
     "name": "stdout",
     "output_type": "stream",
     "text": [
      "(0.5468999743461609, 0.5468999743461609, 0.5468999743461609)\n",
      "Save mask to sub-001_seg.nii.gz\n"
     ]
    }
   ],
   "source": [
    "# copy spacing info\n",
    "maskitk.CopyInformation(imageitk)\n",
    "print(maskitk.GetSpacing())\n",
    "\n",
    "out_path = 'sub-001_seg.nii.gz'\n",
    "sitk.WriteImage(maskitk, out_path)\n",
    "print(f\"Save mask to {out_path}\")"
   ]
  }
 ],
 "metadata": {
  "interpreter": {
   "hash": "5fe473290657c8b645f2c570a38ed623f155a2f5ef378fea091af06f1dd03560"
  },
  "kernelspec": {
   "display_name": "Python 3.9.5 ('venvtest')",
   "language": "python",
   "name": "python3"
  },
  "language_info": {
   "codemirror_mode": {
    "name": "ipython",
    "version": 3
   },
   "file_extension": ".py",
   "mimetype": "text/x-python",
   "name": "python",
   "nbconvert_exporter": "python",
   "pygments_lexer": "ipython3",
   "version": "3.9.5"
  }
 },
 "nbformat": 4,
 "nbformat_minor": 5
}
